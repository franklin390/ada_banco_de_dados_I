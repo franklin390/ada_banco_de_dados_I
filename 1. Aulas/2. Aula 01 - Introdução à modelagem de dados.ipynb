{
 "cells": [
  {
   "attachments": {},
   "cell_type": "markdown",
   "id": "49b7e916",
   "metadata": {},
   "source": [
    "# **Aula 01 - Introdução à modelagem de dados**\n",
    "\n",
    "***16 de dezembro de 2022***"
   ]
  },
  {
   "attachments": {},
   "cell_type": "markdown",
   "id": "2204dfce",
   "metadata": {},
   "source": [
    "---\n",
    "\n",
    "<p align=\"center\">\n",
    "  <img \n",
    "    src   = \"https://cdn-icons-png.flaticon.com/512/2758/2758751.png\" \n",
    "    style = \"\n",
    "      border: 0px solid rgba(0, 0, 0, 0.01);\n",
    "      border-radius: 70px; \n",
    "      width: 25%;\n",
    "      height: 25%;\n",
    "    \"\n",
    "  />\n",
    "</p>\n",
    "\n",
    "---"
   ]
  },
  {
   "attachments": {},
   "cell_type": "markdown",
   "id": "7b3e11fe",
   "metadata": {},
   "source": [
    "### **Front-End, Back-End e Bancos de dados**"
   ]
  },
  {
   "attachments": {},
   "cell_type": "markdown",
   "id": "57eae044",
   "metadata": {},
   "source": [
    "---\n",
    "\n",
    "<p align=\"center\">\n",
    "  <img \n",
    "    src   = \"https://i.imgur.com/Ubr8NKL.png\" \n",
    "    style = \"\n",
    "      border: 0px solid rgba(0, 0, 0, 0.01);\n",
    "      border-radius: 70px; \n",
    "      width: 90%;\n",
    "      height: 90%;\n",
    "    \"\n",
    "  />\n",
    "</p>\n",
    "\n",
    "---"
   ]
  },
  {
   "attachments": {},
   "cell_type": "markdown",
   "id": "c9a6ec3b",
   "metadata": {},
   "source": [
    "### **Tipos de bancos de dados**\n",
    "\n",
    "---"
   ]
  },
  {
   "attachments": {},
   "cell_type": "markdown",
   "id": "4ffbfd88",
   "metadata": {},
   "source": [
    "Assim como existem tipos de Linguagens de Programação Java, C#, Python, entre outras, nós também temos tipos de Banco de Dados. Eles podem ser dividos em Relacionais e Não Relacionais.\n",
    "\n",
    "**Relacionais**\n",
    "\n",
    "São dados estruturados em um formato de tabela, coluna e linha (podemos imaginar uma planilha de excel). Utiliza-se da linguagem SQL para manipulação dos dados."
   ]
  },
  {
   "cell_type": "code",
   "execution_count": null,
   "id": "b82329e2",
   "metadata": {},
   "outputs": [],
   "source": [
    "\"\"\"\n",
    "SELECT * FROM usuarios WHERE estado = \"Rio de Janeiro\"\n",
    "\"\"\""
   ]
  },
  {
   "attachments": {},
   "cell_type": "markdown",
   "id": "d1e0ab62",
   "metadata": {},
   "source": [
    "**Não Relacionais**\n",
    "\n",
    "NoSQL é a denominação de bancos de dados não tabulares, que armazenam dados em esquemas diferentes das tabelas relacionais, como documentos, grafos, pares chave-valor ou colunas."
   ]
  },
  {
   "attachments": {},
   "cell_type": "markdown",
   "id": "397268b9",
   "metadata": {},
   "source": [
    "---\n",
    "\n",
    "<p align=\"center\">\n",
    "  <img \n",
    "    src   = \"https://awari.com.br/wp-content/uploads/2022/07/bancos-de-dados-nao-relacional-515x152.png\" \n",
    "    style = \"\n",
    "      border: 0px solid rgba(0, 0, 0, 0.01);\n",
    "      border-radius: 70px; \n",
    "      width: 50%;\n",
    "      height: 50%;\n",
    "    \"\n",
    "  />\n",
    "</p>\n",
    "\n",
    "---"
   ]
  },
  {
   "cell_type": "code",
   "execution_count": null,
   "id": "7fbe778e",
   "metadata": {},
   "outputs": [],
   "source": [
    "\"\"\"\n",
    "db.usuarios.find(\n",
    "    { estado: { $eq: \"Rio de Janeiro\" } }\n",
    ")\n",
    "\"\"\""
   ]
  },
  {
   "attachments": {},
   "cell_type": "markdown",
   "id": "752a8213",
   "metadata": {},
   "source": [
    "### **Preparando o banco de dados**\n",
    "\n",
    "---"
   ]
  },
  {
   "attachments": {},
   "cell_type": "markdown",
   "id": "0fb05335",
   "metadata": {},
   "source": [
    "* **Alternativa 1**: Siga o tutorial na aula 3 do class e instale o Postgres na sua máquina; ou\n",
    "* **Alternativa 2**: Instale um docker com Postgres como descrito [neste tutorial](https://felixgilioli.medium.com/como-rodar-um-banco-de-dados-postgres-com-docker-6aecf67995e1).\n",
    "\n",
    "---"
   ]
  },
  {
   "attachments": {},
   "cell_type": "markdown",
   "id": "c0871ce0",
   "metadata": {},
   "source": [
    "## **Tipos de Dados**\n",
    "\n",
    "A primeira coisa que devemos ter conhecimento ao criar uma tabela são os tipos dos dados. Os tipos são como as informações daquela coluna serão armazenas. Cada tipo é armazenado de forma diferente na memória e podem ser aplicadas operações distintas, apesar de algumas operações servirem para vários tipos diferentes.\n",
    "\n",
    "O SQL tem suporte a vários tipos de dados, podendo ocorrer algumas mudanças entre diferentes SGBDs.\n",
    "\n",
    "Aqui vamos tratar os principais tipos que ocorrem no PostgreSQL.\n",
    "\n",
    "**Tipos Numéricos**\n",
    "\n",
    "Estes tipos salvam valores numéricos. Com eles podemos fazer operações aritméticas, ou utilizar funções que permitem retirar valores estatísticos.\n",
    "\n",
    "Eles são dividos entre números inteiros e decimais.\n",
    "\n",
    "* inteiros: guardam números inteiros, ou sejam sem a parte decimal, existem vários tipos de dados inteiros, que se diferencia pelo tamanho de bits necessários para guardar o valor.\n",
    "\n",
    "* smallint: são inteiros de 2 bytes (16 bits).\n",
    "\n",
    "* interger: inteiros de 4 bytes (32 bits).\n",
    "\n",
    "* bigint: inteiros de 8 bytes (64 bits).\n",
    "\n",
    "* decimais: estes são os valores que guardam números decimais, ou sejam que tem pontos, eles também são dividos segundo sua precisão.\n",
    "\n",
    "* real: números decimais de 4 bytes (32 bits).\n",
    "\n",
    "* double precision: números decimais de 8 bytes (64 bit).\n",
    "\n",
    "**Tipos Textuais**\n",
    "\n",
    "Este tipos representam textos. Textos na computação são listas de caracteres (letras e símbolos). Estes tipos se diferenciam pelo números de caracteres possíveis de guardar.\n",
    "\n",
    "character(n) ou char(n): tem um número fixo de n símbolos.\n",
    "\n",
    "character varying (n) ou varchar(n): tem variado de símbolos, porém com máximo de n.\n",
    "\n",
    "text: esse tipo de dado tem um número ilimitado de símbolos.\n",
    "\n",
    "**Data**\n",
    "\n",
    "Estes são os valores utilizados para se salvar datas. Com ele é possível acessar a contagem de tempo por diferentes valores (dia, mês, anos, minutos, segundos, microssegundos). Também é possível compara duas datas, verificando, por exemplo, se uma data é maior que outra.\n",
    "\n",
    "* Date: Formato de dados com 4 bytes utilizando para salvar a data com precisão máxima de um dia.\n",
    "\n",
    "* Time: Formato de dados com valores entre 8 a 12 bytes, utilizado para salvar datas com precisão máxima de 1 microssegundo. Em alguns SGBDs conhecido como datetime.\n",
    "\n",
    "* TimeStamp: Formato alternativo, de 8 bytes, utilizado salvar valores de data com precisão de 1 microssegundo, porém não suporta operações com as datas.\n",
    "\n",
    "* Tipos Lógicos: Formato utilizado para cálculos booleanos, com apenas dois estados, verdadeiro ou falso.\n",
    "\n",
    "* Bolean: Formato padrão do PosgreSQL, aonde os valores são salvos por padrão como 'TRUE' ou 'FALSE', porém também permite leituras diferentes como por exemplo a utilizada no bit.\n",
    "\n",
    "* Bit: Formato logico padrão em SGBDs como MySQL, aceitam dois tipos de valores inteiros, 1 representando verdadeiro e 0 representando falso.\n",
    "\n",
    "**Enumerados**\n",
    "\n",
    "* ENUM: São tipos personalizados, que podem ser comparados com dicionários ordenado, nele passamos alguns valores em ordem, a cada um e atribuído um valor segundo ordem. Por exemplo podemos criar um ENUM para criar um tipo que salva valores do clima, sendo (ensolarado, nublado, chuvoso), com isto teremos o ensolarado com um valor 0, o nublado como 1, e o chuvoso com 2, assim podemos compara se um clima é maior que o outro, ou ordenar um tabela por clima.\n",
    "\n",
    "**Outros**\n",
    "\n",
    "Existem outros tipos de dados aceitos nos PostgreSQL, porém não tem o uso tão comum como os descritos acima e alguns não são padrões de outros SGBDs, aqui será feito uma breve descrição destes formatos.\n",
    "\n",
    "* Geográfico\n",
    "\n",
    "* Monetário\n",
    "\n",
    "* Endereço de rede\n",
    "\n",
    "* Bit String\n",
    "\n",
    "* Text Search\n",
    "\n",
    "* XML\n",
    "\n",
    "* Arrays\n",
    "\n",
    "* Composite Range"
   ]
  },
  {
   "attachments": {},
   "cell_type": "markdown",
   "id": "371f58a2",
   "metadata": {},
   "source": [
    "### **Introdução à modelagem**\n",
    "\n",
    "---"
   ]
  },
  {
   "attachments": {},
   "cell_type": "markdown",
   "id": "e46236f2",
   "metadata": {},
   "source": [
    "*\"Modelagem de dados é o ato de explorar estruturas orientadas a dados.\"*\n",
    "\n",
    "Utilizamos Modelagem de Dados para:\n",
    "\n",
    "* Representar o ambiente observado;\n",
    "* Fornecer processos de validação;\n",
    "* Observar processos de relacionamentos entre objetos; ou\n",
    "* Documentar.\n",
    "\n",
    "É importante entender sobre:\n",
    "\n",
    "**Entidade**\n",
    "\n",
    "* Define qualquer coisa que seja identificável, singular e tenha existência bem delimitada, tais como cidade e estado.\n",
    "\n",
    "**Atributo**\n",
    "\n",
    "* É tudo aquilo que pode relacionar como propriedade da entidade, tais como nome da cidade, unidade federativa do estado, etc.\n",
    "\n",
    "**Relacionamento**\n",
    "\n",
    "* Descreve um evento significativo que ocorre entre duas entidades.\n",
    "\n",
    "**Cardinalidade**\n",
    "\n",
    "* Conceito usado para dizer quantas vezes uma entidade pode se relacionar com outra entidade, também referenciado como “grau de relacionamento”.\n",
    "\n",
    "**Modelagem de Dados Conceitual**\n",
    "\n",
    "* A modelagem de dados conceitual é utilizada para envolver o cliente, pois o foco aqui é discutir os aspectos do negócio do cliente. Os exemplos de modelagem de dados vistos pelo modelo conceitual são mais fáceis de compreender, já que não há limitações ou aplicação de tecnologia específica.\n",
    "\n",
    "Aqui construimos o diagrama de Entidade e Relacionamento, onde são identificados todas as entidades e os relacionamentos entre elas. Este diagrama é a chave para a compreensão do modelo conceitual de dados.\n",
    "\n",
    "<p align=\"center\">\n",
    "  <img \n",
    "    src   = \"https://s3-sa-east-1.amazonaws.com/lcpi/e8dc027e-f6de-48c7-a036-83370a7bfc61.PNG\" \n",
    "    style = \"\n",
    "      border: 0px solid rgba(0, 0, 0, 0.01);\n",
    "      border-radius: 70px; \n",
    "      width: 40%;\n",
    "      height: 40%;\n",
    "    \"\n",
    "  />\n",
    "</p>\n",
    "\n",
    "Modelagem de Dados Lógica\n",
    "A modelagem lógica implementa recursos como adequação de padrão e nomenclatura, define as chaves primárias e estrangeiras, normalização, integridade referencial, entre outras. O modelo lógico deve ser criado levando em conta os exemplos de modelagem de dados criados no modelo conceitual.\n",
    "\n",
    "<p align=\"center\">\n",
    "  <img \n",
    "    src   = \"https://s3-sa-east-1.amazonaws.com/lcpi/dd999242-bdcd-429b-a2d7-019811f3f48f.PNG\" \n",
    "    style = \"\n",
    "      border: 0px solid rgba(0, 0, 0, 0.01);\n",
    "      border-radius: 70px; \n",
    "      width: 40%;\n",
    "      height: 40%;\n",
    "    \"\n",
    "  />\n",
    "</p>\n",
    "\n",
    "Modelagem de Dados Física\n",
    "A modelagem física lida com o design do banco de dados real com base nos requisitos reunidos durante a modelagem lógica.\n",
    "\n",
    "<p align=\"center\">\n",
    "  <img \n",
    "    src   = \"https://s3-sa-east-1.amazonaws.com/lcpi/5387b2a7-b61d-4836-be9c-20ce048b075e.PNG\" \n",
    "    style = \"\n",
    "      border: 0px solid rgba(0, 0, 0, 0.01);\n",
    "      border-radius: 70px; \n",
    "      width: 40%;\n",
    "      height: 40%;\n",
    "    \"\n",
    "  />\n",
    "</p>\n",
    "\n",
    "\n",
    "\n",
    "**Tabela comparativa das modelagens**\n",
    "\n",
    "<p align=\"center\">\n",
    "  <img \n",
    "    src   = \"https://i.imgur.com/m0lomQ4.png\" \n",
    "    style = \"\n",
    "      border: 0px solid rgba(0, 0, 0, 0.005);\n",
    "      border-radius: 35px; \n",
    "      width: 40%;\n",
    "      height: 40%;\n",
    "    \"\n",
    "  />\n",
    "</p>"
   ]
  },
  {
   "attachments": {},
   "cell_type": "markdown",
   "id": "1dbb2a9d",
   "metadata": {},
   "source": [
    "## **Querys DDL (Data Defintion Language)**\n",
    "\n",
    "---"
   ]
  },
  {
   "attachments": {},
   "cell_type": "markdown",
   "id": "d0f34f99",
   "metadata": {},
   "source": [
    "**Comando para a criação de um banco de dados**"
   ]
  },
  {
   "cell_type": "code",
   "execution_count": null,
   "id": "39f3e008",
   "metadata": {},
   "outputs": [],
   "source": [
    "\"\"\"\n",
    "\n",
    "/*Estrutura do database bd_cidades_estados*/\n",
    "\n",
    "CREATE DATABASE bd_cidades_estados;\n",
    "\n",
    "\"\"\""
   ]
  },
  {
   "attachments": {},
   "cell_type": "markdown",
   "id": "2467df5e",
   "metadata": {},
   "source": [
    "**Comando para a criação de tabelas**"
   ]
  },
  {
   "cell_type": "code",
   "execution_count": null,
   "id": "7d5196fa",
   "metadata": {},
   "outputs": [],
   "source": [
    "\"\"\"\n",
    "\n",
    "/*Estrutura da tabela tb_estados*/\n",
    "\n",
    "CREATE TABLE tb_estados (\n",
    "    id SERIAL,\n",
    "    uf VARCHAR(2) NOT NULL,\n",
    "    nome VARCHAR(50) NOT NULL,\n",
    "    PRIMARY KEY (id)\n",
    ");\n",
    "\n",
    "\"\"\""
   ]
  },
  {
   "cell_type": "code",
   "execution_count": null,
   "id": "dc883f59",
   "metadata": {},
   "outputs": [],
   "source": [
    "\"\"\"\n",
    "\n",
    "/*Estrutura da tabela tb_cidades*/\n",
    "\n",
    "CREATE TABLE tb_cidades (\n",
    "    id SERIAL,\n",
    "    nome VARCHAR(50) NOT NULL,\n",
    "    id_estado INT NOT NULL,\n",
    "    PRIMARY KEY (id),\n",
    "    FOREIGN KEY (id_estado) REFERENCES tb_estados (id)\n",
    ");\n",
    "\n",
    "\"\"\""
   ]
  },
  {
   "attachments": {},
   "cell_type": "markdown",
   "id": "bdc8b435",
   "metadata": {},
   "source": [
    "---\n",
    "\n",
    "## **Exercícios**\n",
    "\n",
    "---"
   ]
  },
  {
   "attachments": {},
   "cell_type": "markdown",
   "id": "c9e5fd34",
   "metadata": {},
   "source": [
    "### **1. Praticando Modelagem de Dados - Livraria**\n",
    "\n",
    "<p align=\"center\">\n",
    "  <img \n",
    "    src   = \"https://cdn-icons-png.flaticon.com/512/1596/1596392.png\" \n",
    "    style = \"\n",
    "      border: 0px solid rgba(0, 0, 0, 0.01);\n",
    "      border-radius: 20px; \n",
    "      width: 20%;\n",
    "      height: 20%;\n",
    "    \"\n",
    "  />\n",
    "</p>\n",
    "\n",
    "**Informações:**\n",
    "\n",
    "Você ficou encarregado(a) de trabalhar no Banco de Dados de um site que vai ser criado para uma Livraria.\n",
    "\n",
    "O responsável pelo projeto foi consultar o cliente (livraria) e, a partir dos requisitos que foram solicitados, ele criou um resumo das regras de negócios que você vai precisar ter em mente ao fazer a Modelagem do Banco de Dados.\n",
    "\n",
    "**Regras de Negócios:**\n",
    "\n",
    "* Queremos coletar os dados pessoais de nossos clientes: CPF, nome, endereço, telefone e e-mail.\n",
    "\n",
    "* Os livros que vendemos têm informações associadas a eles, como seu título, categoria, ISBN, ano de publicação, editora, bem como autor ou autores da obra.\n",
    "\n",
    "* Nossos livros são fornecidos por editoras. Precisamos ter o nome de contato, o e-mail e, no máximo, dois telefones da editora.\n",
    "\n",
    "* Não é possível ter o mesmo livro vindo de várias editoras. Cada livro é exclusivo de uma editora.\n",
    "\n",
    "* Nossos clientes podem comprar um ou mais livros em um pedido de compra. Mas, antes que ele faça a compra, é preciso verificar se o livro está disponível em estoque para que a compra seja efetuada.\n",
    "\n",
    "**Proposta:**\n",
    "\n",
    "Com base nesses requisitos, crie a Modelagem de Dados Conceitual, Modelagem de Dados Lógica e Modelagem de Dados Física desse Banco de Dados e, em seguida, crie um script SQL da criação desse Banco de Dados no PostgreSQL.\n",
    "\n",
    "<p align=\"center\">\n",
    "  <img \n",
    "    src   = \"https://cdn-icons-png.flaticon.com/512/3664/3664002.png\" \n",
    "    style = \"\n",
    "      border: 0px solid rgba(0, 0, 0, 0.01);\n",
    "      border-radius: 20px; \n",
    "      width: 20%;\n",
    "      height: 20%;\n",
    "    \"\n",
    "  />\n",
    "</p>\n",
    "\n",
    "### **2. Praticando Modelagem de Dados - Cursos**\n",
    "\n",
    "Crie um banco de dados com a seguinte estrutura:\n",
    "\n",
    "* Uma tabela de Cursos que possua as colunas: id (um número sendo esta a chave primária), nome (obrigatório), mensalidade (obrigatório);\n",
    "\n",
    "* Uma tabela de Alunos que possua as colunas: nome (obrigatório), cpf (obrigatório), e-mail (obrigatório), data nascimento (obrigatório), informações de endereço principal (cidade, rua e número) e endereço complemento, sendo casa, apartamento (este campo não é obrigatório). Identifique qual atributo será a chave primária!;\n",
    "\n",
    "* Sabendo que um aluno pode comprar vários cursos, crie uma tabela para poder relacionar ambos.\n",
    "\n",
    "<p align=\"center\">\n",
    "  <img \n",
    "    src   = \"https://cdn-icons-png.flaticon.com/512/8074/8074800.png\" \n",
    "    style = \"\n",
    "      border: 0px solid rgba(0, 0, 0, 0.01);\n",
    "      border-radius: 20px; \n",
    "      width: 20%;\n",
    "      height: 20%;\n",
    "    \"\n",
    "  />\n",
    "</p>\n",
    "\n",
    "### **3. Praticando Modelagem de Dados - Faculdade (Escopo aberto)**\n",
    "\n",
    "A faculdade em que estuda está resolvendo migrar seu sistema de gerenciamento legado para um mais moderno, mas eles não tem noção de como modelar seu banco de dados corretamente. Sabendo que você é um estudante assíduo de modelagem de banco de dados, a reitoria pede sua ajuda para propor uma solução. Qual seria sua proposta para eles?\n",
    "\n",
    "**Importante:**\n",
    "\n",
    "* Utilize o [Try Eraser](https://www.tryeraser.com) para criar as Modelagens de Dados; e\n",
    "\n",
    "* Salve o script SQL em um arquivo no formato script.sql;"
   ]
  },
  {
   "attachments": {},
   "cell_type": "markdown",
   "id": "e190aee2",
   "metadata": {},
   "source": [
    "---"
   ]
  }
 ],
 "metadata": {
  "kernelspec": {
   "display_name": "base",
   "language": "python",
   "name": "python3"
  },
  "language_info": {
   "codemirror_mode": {
    "name": "ipython",
    "version": 3
   },
   "file_extension": ".py",
   "mimetype": "text/x-python",
   "name": "python",
   "nbconvert_exporter": "python",
   "pygments_lexer": "ipython3",
   "version": "3.7.7 (default, May  6 2020, 11:45:54) [MSC v.1916 64 bit (AMD64)]"
  },
  "varInspector": {
   "cols": {
    "lenName": 16,
    "lenType": 16,
    "lenVar": 40
   },
   "kernels_config": {
    "python": {
     "delete_cmd_postfix": "",
     "delete_cmd_prefix": "del ",
     "library": "var_list.py",
     "varRefreshCmd": "print(var_dic_list())"
    },
    "r": {
     "delete_cmd_postfix": ") ",
     "delete_cmd_prefix": "rm(",
     "library": "var_list.r",
     "varRefreshCmd": "cat(var_dic_list()) "
    }
   },
   "types_to_exclude": [
    "module",
    "function",
    "builtin_function_or_method",
    "instance",
    "_Feature"
   ],
   "window_display": false
  },
  "vscode": {
   "interpreter": {
    "hash": "ad2bdc8ecc057115af97d19610ffacc2b4e99fae6737bb82f5d7fb13d2f2c186"
   }
  }
 },
 "nbformat": 4,
 "nbformat_minor": 5
}
