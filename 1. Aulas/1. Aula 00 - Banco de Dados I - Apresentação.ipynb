{
 "cells": [
  {
   "attachments": {},
   "cell_type": "markdown",
   "metadata": {},
   "source": [
    "# **Aula 00 - Banco de Dados I: Apresentação**\n",
    "\n",
    "***12 de dezembro de 2022***"
   ]
  },
  {
   "attachments": {},
   "cell_type": "markdown",
   "metadata": {},
   "source": [
    "---\n",
    "\n",
    "<p align=\"center\">\n",
    "  <img \n",
    "    src   = \"https://cdn-icons-png.flaticon.com/512/2758/2758751.png\" \n",
    "    style = \"\n",
    "      border: 0px solid rgba(0, 0, 0, 0.01);\n",
    "      border-radius: 70px; \n",
    "      width: 25%;\n",
    "      height: 25%;\n",
    "    \"\n",
    "  />\n",
    "</p>\n",
    "\n",
    "---"
   ]
  },
  {
   "cell_type": "markdown",
   "metadata": {},
   "source": [
    "## **Professor**\n",
    "\n",
    "---"
   ]
  },
  {
   "cell_type": "markdown",
   "metadata": {},
   "source": [
    "**Franklin Ferreira**\n",
    "\n",
    "* A melhor forma de falar sobre mim está [aqui](https://franklin390.github.io/)."
   ]
  },
  {
   "cell_type": "markdown",
   "metadata": {},
   "source": [
    "## **Sobre vocês**\n",
    "\n",
    "---"
   ]
  },
  {
   "cell_type": "markdown",
   "metadata": {},
   "source": [
    "<p align=\"center\">\n",
    "  <img \n",
    "    src   = \"https://i.imgur.com/Hi0Z4y8.png\" \n",
    "    style = \"\n",
    "      border: 0px solid rgba(0, 0, 0, 0.01);\n",
    "      border-radius: 70px; \n",
    "      width: 25%;\n",
    "      height: 25%;\n",
    "    \"\n",
    "  />\n",
    "</p>"
   ]
  },
  {
   "cell_type": "markdown",
   "metadata": {},
   "source": [
    "## **Ementa**\n",
    "\n",
    "---"
   ]
  },
  {
   "attachments": {},
   "cell_type": "markdown",
   "metadata": {},
   "source": [
    "### **Primeira Parte - Conteúdo**\n",
    "\n",
    "* **Aulas 12/12 e 14/12**\n",
    "\n",
    "1. Informações do Módulo;\n",
    "2. Introdução a Banco de Dados;\n",
    "3. Banco de Dados: Preparando o Ambiente;\n",
    "4. Tipos de Dados;\n",
    "5. Introdução a Modelagem de Dados ([Try Eraser](https://www.tryeraser.com)) e; \n",
    "6. **Exercícios**: Praticando Modelagem de Dados (Diagramas).\n",
    "\n",
    "* **Aula 16/12 e 19/12**\n",
    "\n",
    "1. Introdução a Linguagem SQL;\n",
    "2. Constraints;\n",
    "3. Funções Agregadas; \n",
    "4. Praticando INNER JOIN\n",
    "5. **Exercícios**: Praticando no [Splitgrah](https://www.splitgraph.com) (Querys) e;\n",
    "6. **Exercícios**: Praticando Modelagem de Dados (Querys).\n",
    "\n",
    "* **Aula 21/12 e 23/12**\n",
    "\n",
    "1. Introdução a *'Otimização de Consultas no Banco de Dados'*;\n",
    "2. Criação do Banco de Dados + Tabelas;\n",
    "3. Manipulando Datas;\n",
    "4. Window Functions;\n",
    "5. GroupSet;\n",
    "6. Casts;\n",
    "7. Manipulando texto e;\n",
    "5. **Exercícios**: Praticando no [Splitgrah](https://www.splitgraph.com) (Querys).\n",
    "\n",
    "### **Segunda Parte - Projeto Supervisionado (Captura de Webhooks)**\n",
    "\n",
    "* **Aula 09/01**\n",
    "\n",
    "1. Descrição do projeto;\n",
    "2. Modelagem de dados para o recebimento dos webhooks;\n",
    "3. Criação dos DDLs das tabelas;\n",
    "\n",
    "* **Aula 11/01**\n",
    "\n",
    "1. Criação de script em Python para a geração dos webhooks;\n",
    "2. Ingestão dos dados no banco de dados; \n",
    "\n",
    "* **Aula 13/01**\n",
    "\n",
    "1. Implementação de análises de dados, geração de insights e relatórios e;\n",
    "2. Considerações finais.\n"
   ]
  },
  {
   "cell_type": "markdown",
   "metadata": {},
   "source": [
    "---"
   ]
  },
  {
   "attachments": {},
   "cell_type": "markdown",
   "metadata": {},
   "source": [
    "## **Github**\n",
    "\n",
    "---"
   ]
  },
  {
   "attachments": {},
   "cell_type": "markdown",
   "metadata": {},
   "source": [
    "* Link do repositório no Github: [aqui](https://github.com/franklin390/ada_banco_de_dados_I)"
   ]
  }
 ],
 "metadata": {
  "kernelspec": {
   "display_name": "Python 3.8.5 64-bit",
   "language": "python",
   "name": "python3"
  },
  "language_info": {
   "codemirror_mode": {
    "name": "ipython",
    "version": 3
   },
   "file_extension": ".py",
   "mimetype": "text/x-python",
   "name": "python",
   "nbconvert_exporter": "python",
   "pygments_lexer": "ipython3",
   "version": "3.8.5 (tags/v3.8.5:580fbb0, Jul 20 2020, 15:57:54) [MSC v.1924 64 bit (AMD64)]"
  },
  "orig_nbformat": 4,
  "vscode": {
   "interpreter": {
    "hash": "6a926afa313b26ae1264fdcf81c726a97e69f6ba2ba780f6aa901948710f8d6e"
   }
  }
 },
 "nbformat": 4,
 "nbformat_minor": 2
}
