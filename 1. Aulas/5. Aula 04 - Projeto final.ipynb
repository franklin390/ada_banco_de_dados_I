{
 "cells": [
  {
   "attachments": {},
   "cell_type": "markdown",
   "id": "49b7e916",
   "metadata": {},
   "source": [
    "# **Aula 04 - Projeto Final**\n",
    "\n",
    "***10 de janeiro de 2023***"
   ]
  },
  {
   "attachments": {},
   "cell_type": "markdown",
   "id": "2204dfce",
   "metadata": {},
   "source": [
    "---\n",
    "\n",
    "<p align=\"center\">\n",
    "  <img \n",
    "    src   = \"https://cdn-icons-png.flaticon.com/512/2758/2758710.png\" \n",
    "    style = \"\n",
    "      border: 0px solid rgba(0, 0, 0, 0.01);\n",
    "      border-radius: 70px; \n",
    "      width: 25%;\n",
    "      height: 25%;\n",
    "    \"\n",
    "  />\n",
    "</p>\n",
    "\n",
    "---"
   ]
  },
  {
   "attachments": {},
   "cell_type": "markdown",
   "id": "7b3e11fe",
   "metadata": {},
   "source": [
    "### **Exercícios de revisão**\n",
    "\n",
    "---"
   ]
  },
  {
   "attachments": {},
   "cell_type": "markdown",
   "id": "b1710cbe",
   "metadata": {},
   "source": [
    "### **Instalação do Postgres**\n",
    "\n",
    "* **Alternativa 1**: Siga o tutorial na aula 3 do class e instale o Postgres na sua máquina; ou\n",
    "* **Alternativa 2**: Instale um docker com Postgres como descrito [neste tutorial](https://felixgilioli.medium.com/como-rodar-um-banco-de-dados-postgres-com-docker-6aecf67995e1).\n",
    "\n",
    "* **Link de suporte**:\n",
    "\n",
    "- Repositório do Postgres no Docker Hub: [acesse](https://hub.docker.com/_/postgres)\n",
    "- Forma diferentes de instalar o Postgres: [acesse](https://hevodata.com/learn/docker-postgresql/)\n",
    "\n",
    "### **Modelagem**\n",
    "\n",
    "> Crie um banco de dados com a seguinte estrutura:\n",
    "\n",
    "* Uma tabela de Cursos, que possua as colunas:\n",
    "\n",
    "  - id (um número, deve ser a chave primária); \n",
    "  - nome (campo obrigatório); e\n",
    "  - mensalidade (campo obrigatório).\n",
    "\n",
    "* Uma tabela de Alunos, que possua as colunas:\n",
    " \n",
    "  - nome (campo obrigatório); \n",
    "  - cpf (campo obrigatório);\n",
    "  - e-mail (campo obrigatório); \n",
    "  - data nascimento (campo obrigatório);\n",
    "  - informações do endereço principal (cidade, rua e número); e\n",
    "  - Endereço complemento (este campo não é obrigatório). \n",
    "  \n",
    "  - **Atenção**: Identifique qual atributo será a chave primária!;\n",
    "\n",
    "* Sabendo que um aluno pode comprar vários cursos, crie uma tabela para poder relacionar ambos.\n",
    "\n",
    "* Crie uma terceira tabela chamada Módulos, onde serão salvos os módulos que um curso pode ter, por exemplo: lógica de programação, Java, banco de dados, etc.\n",
    "\n",
    "* Usando as 3 tabelas criadas, apresente a modelagem entre Alunos, Cursos e Módulos.\n",
    "\n",
    "* Um curso pode ter N módulos, e um módulo pode fazer parte de vários cursos (caso achar necessário, crie uma tabela auxiliar para facilitar o relacionamento entre Cursos e Módulos).\n",
    "\n",
    "### **Carregamento de dados**\n",
    "\n",
    "* Insira 20 registros na tabela Alunos;\n",
    "* Insira 5 registros na tabela Cursos;\n",
    "* Insira registros na tabela Módulos;\n",
    "\n",
    "- **Atenção**: Utilizando as sintaxes possíveis no SQL, faça algumas inserções com valores nulos nas colunas que aceitam este dado;\n",
    "\n",
    "### **Analisando Dados**\n",
    "\n",
    "1. Liste o id, nome, e-mail e data de nascimento de todos os alunos em ordem alfabética. Formate a data de nascimento para o padrão DD/MM/YYYY (Dica: use a função CONVERT).\n",
    "\n",
    "2. Liste todos os estudantes que contenham o dígito 4,5 ou 6 no CPF.\n",
    "\n",
    "3. Liste todos os estudantes que contenham e-mail com a terminação \"@hotmail.com\" e que nasceram antes do ano 2000 (Dica: use a função DATEPART).\n",
    "\n",
    "4. Obtenha a mensalidade mais cara do curso.\n",
    "\n",
    "5. Obtenha a média das mensalidades do curso.\n",
    "\n",
    "6. Obtenha a contagem de quantos cursos são mais caros que a média do curso.\n",
    "\n",
    "7. Obtenha a menor mensalidade acima da média das mensalidades.\n",
    "\n",
    "8. Conte quantos alunos possuem complemento no endereço.\n",
    "\n",
    "9. Quantos alunos compraram o curso mais caro?\n",
    "\n",
    "10. Quantos alunos compraram mais de um curso e quanto eles pagaram no total?\n",
    "\n",
    "11. Liste o nome e quantos cursos cada aluno comprou em ordem alfabética.\n",
    "\n",
    "12. Usando o Select anterior, exiba o total de mensalidade que cada aluno paga. O total é a soma das mensalidades dos cursos que o aluno possui (Dica: faça um join com a tabela Cursos);\n",
    "\n",
    "13. Liste quantos alunos cada curso possui (Considere que pode haver cursos sem aluno).\n",
    "\n",
    "14. Exiba os 3 cursos mais comprados.\n",
    "\n",
    "15. Crie uma View para exibir os dados dos 5 alunos mais recentemente cadastrados na tabela Alunos."
   ]
  },
  {
   "attachments": {},
   "cell_type": "markdown",
   "id": "e190aee2",
   "metadata": {},
   "source": [
    "---"
   ]
  }
 ],
 "metadata": {
  "kernelspec": {
   "display_name": "base",
   "language": "python",
   "name": "python3"
  },
  "language_info": {
   "codemirror_mode": {
    "name": "ipython",
    "version": 3
   },
   "file_extension": ".py",
   "mimetype": "text/x-python",
   "name": "python",
   "nbconvert_exporter": "python",
   "pygments_lexer": "ipython3",
   "version": "3.7.7"
  },
  "varInspector": {
   "cols": {
    "lenName": 16,
    "lenType": 16,
    "lenVar": 40
   },
   "kernels_config": {
    "python": {
     "delete_cmd_postfix": "",
     "delete_cmd_prefix": "del ",
     "library": "var_list.py",
     "varRefreshCmd": "print(var_dic_list())"
    },
    "r": {
     "delete_cmd_postfix": ") ",
     "delete_cmd_prefix": "rm(",
     "library": "var_list.r",
     "varRefreshCmd": "cat(var_dic_list()) "
    }
   },
   "types_to_exclude": [
    "module",
    "function",
    "builtin_function_or_method",
    "instance",
    "_Feature"
   ],
   "window_display": false
  },
  "vscode": {
   "interpreter": {
    "hash": "ad2bdc8ecc057115af97d19610ffacc2b4e99fae6737bb82f5d7fb13d2f2c186"
   }
  }
 },
 "nbformat": 4,
 "nbformat_minor": 5
}
