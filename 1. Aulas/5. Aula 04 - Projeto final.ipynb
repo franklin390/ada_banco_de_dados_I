{
 "cells": [
  {
   "attachments": {},
   "cell_type": "markdown",
   "id": "49b7e916",
   "metadata": {},
   "source": [
    "# **Aula 04 - Projeto Final**\n",
    "\n",
    "***10 de janeiro de 2023***"
   ]
  },
  {
   "attachments": {},
   "cell_type": "markdown",
   "id": "2204dfce",
   "metadata": {},
   "source": [
    "---\n",
    "\n",
    "<p align=\"center\">\n",
    "  <img \n",
    "    src   = \"https://cdn-icons-png.flaticon.com/512/2758/2758710.png\" \n",
    "    style = \"\n",
    "      border: 0px solid rgba(0, 0, 0, 0.01);\n",
    "      border-radius: 70px; \n",
    "      width: 25%;\n",
    "      height: 25%;\n",
    "    \"\n",
    "  />\n",
    "</p>\n",
    "\n",
    "---"
   ]
  },
  {
   "attachments": {},
   "cell_type": "markdown",
   "id": "7b3e11fe",
   "metadata": {},
   "source": [
    "### **Mercado Bitcoin (Escopo aberto)**\n",
    "\n",
    "---"
   ]
  },
  {
   "attachments": {},
   "cell_type": "markdown",
   "id": "b1710cbe",
   "metadata": {},
   "source": [
    "<p align=\"center\">\n",
    "  <img \n",
    "    src   = \"https://cdn-icons-png.flaticon.com/512/1797/1797330.png\" \n",
    "    style = \"\n",
    "      border: 0px solid rgba(0, 0, 0, 0.1);\n",
    "      border-radius: 25px; \n",
    "      width: 10%;\n",
    "      height: 10%;\n",
    "    \"\n",
    "  />\n",
    "</p>\n",
    "\n",
    "O mercado Bitcoin é um mercado digital onde as pessoas podem comprar e vender Bitcoins, que são uma criptomoeda descentralizada. O valor do Bitcoin é determinado pela oferta e demanda, e pode ser altamente volátil devido à sua natureza não regulamentada e à falta de confiança em instituições financeiras tradicionais. Muitas pessoas usam o Bitcoin como uma forma de investimento, enquanto outros o usam como meio de pagamento online. O mercado Bitcoin é conhecido por ser altamente especulativo e pode ser arriscado, portanto é importante compreender os riscos antes de investir.\n",
    "\n",
    "Nosso trabalho, será extrair e analisar dados relacionados ao Mercado Bitcoin: como o preço histórico do Bitcoin, volume de negociação, tendências de preços e fatores que podem afetar o valor do Bitcoin. Para isto, utilizaremos a linguaguem Python e SQL para coletar dados de fontes online. Depois de coletar os dados, eles deverão ser limpos e transformados em um formato apropriado para análise, e; o resultado final deverá ser disponibiliado em um banco de dados Postgres. Em seguida, crie uma modelagem de dados que facilite a exploração e a análise dos dados, para que possamos entender tendências e padrões. Por fim, mostre o resultado da análise em um relatório e/ou gráficos para ajudar a informar decisões de investimento ou outras ações relacionadas ao mercado Bitcoin.\n",
    "\n",
    "Em suma, siga os seguintes requisitos:\n",
    "\n",
    "* 1. Faça a extração dos dados de 3 criptomoedas diferentes em Python;\n",
    "* 2. Utilize Python para carregar os dados dentro do banco de dados Postgres;\n",
    "* 3. Construa uma modelagem eficiente para o armazenamento destes dados dentro do banco de dados Postgres;\n",
    "* 4. Utilize apenas SQL para reorganizar os dados capturados com o objetivo de facilitar a criação de relatórios e análises (limpe os dados e aprimore a modelagem, se necessário); e\n",
    "* 5. Faça uma análise exploratória e comparativa das 3 criptomoedas escolhidas.\n",
    "\n",
    "Consulte o link da documentação do Mercado Bitcoin [aqui](https://www.mercadobitcoin.com.br/api-doc/) e [aqui](https://www.mercadobitcoin.com.br/trade-api/)."
   ]
  },
  {
   "attachments": {},
   "cell_type": "markdown",
   "id": "e190aee2",
   "metadata": {},
   "source": [
    "---"
   ]
  }
 ],
 "metadata": {
  "kernelspec": {
   "display_name": "base",
   "language": "python",
   "name": "python3"
  },
  "language_info": {
   "codemirror_mode": {
    "name": "ipython",
    "version": 3
   },
   "file_extension": ".py",
   "mimetype": "text/x-python",
   "name": "python",
   "nbconvert_exporter": "python",
   "pygments_lexer": "ipython3",
   "version": "3.7.7 (default, May  6 2020, 11:45:54) [MSC v.1916 64 bit (AMD64)]"
  },
  "varInspector": {
   "cols": {
    "lenName": 16,
    "lenType": 16,
    "lenVar": 40
   },
   "kernels_config": {
    "python": {
     "delete_cmd_postfix": "",
     "delete_cmd_prefix": "del ",
     "library": "var_list.py",
     "varRefreshCmd": "print(var_dic_list())"
    },
    "r": {
     "delete_cmd_postfix": ") ",
     "delete_cmd_prefix": "rm(",
     "library": "var_list.r",
     "varRefreshCmd": "cat(var_dic_list()) "
    }
   },
   "types_to_exclude": [
    "module",
    "function",
    "builtin_function_or_method",
    "instance",
    "_Feature"
   ],
   "window_display": false
  },
  "vscode": {
   "interpreter": {
    "hash": "ad2bdc8ecc057115af97d19610ffacc2b4e99fae6737bb82f5d7fb13d2f2c186"
   }
  }
 },
 "nbformat": 4,
 "nbformat_minor": 5
}
